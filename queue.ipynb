{
  "nbformat": 4,
  "nbformat_minor": 0,
  "metadata": {
    "colab": {
      "name": "queue.ipynb",
      "provenance": [],
      "authorship_tag": "ABX9TyNXlfLKp+fUb0DOGD8Mcxy2",
      "include_colab_link": true
    },
    "kernelspec": {
      "name": "python3",
      "display_name": "Python 3"
    }
  },
  "cells": [
    {
      "cell_type": "markdown",
      "metadata": {
        "id": "view-in-github",
        "colab_type": "text"
      },
      "source": [
        "<a href=\"https://colab.research.google.com/github/Azharsayyed5/DSA-OOP-with-Python/blob/main/queue.ipynb\" target=\"_parent\"><img src=\"https://colab.research.google.com/assets/colab-badge.svg\" alt=\"Open In Colab\"/></a>"
      ]
    },
    {
      "cell_type": "markdown",
      "metadata": {
        "id": "hVW_pnq8cP9D"
      },
      "source": [
        " Queue follows the First In First Out (FIFO) rule - \n",
        " \n",
        "the item that goes in first is the item that comes out first.\n",
        " \n",
        "In programming terms, putting items in the queue is called enqueue, and removing items from the queue is called dequeue.\n",
        " \n",
        "Basic Operations of Queue\n",
        " \n",
        "Enqueue: Add an element to the end of the queue\n",
        " \n",
        "Dequeue: Remove an element from the front of the queue\n",
        " \n",
        "IsEmpty: Check if the queue is empty\n",
        " \n",
        "IsFull: Check if the queue is full\n",
        " \n",
        "Peek: Get the value of the front of the queue without removing it"
      ]
    },
    {
      "cell_type": "markdown",
      "metadata": {
        "id": "VfrcxbHefAHx"
      },
      "source": [
        " Simple FIFO Queue"
      ]
    },
    {
      "cell_type": "code",
      "metadata": {
        "id": "tTV-WloccsSC"
      },
      "source": [
        "# Queue implementation in Python\n",
        " \n",
        "class Queue:\n",
        " \n",
        "    def __init__(self):\n",
        "        self.queue = []\n",
        " \n",
        "    # Add an element\n",
        "    def enqueue(self, item):\n",
        "        if self.size() == 5:\n",
        "            print(\"Queue is full\")\n",
        "            return None\n",
        "        self.queue.append(item)\n",
        " \n",
        "    # Remove an element\n",
        "    def dequeue(self):\n",
        "        if len(self.queue) < 1:\n",
        "            return None\n",
        "        return self.queue.pop(0)\n",
        " \n",
        "    # Display  the queue\n",
        "    def display(self):\n",
        "        print(self.queue)\n",
        " \n",
        "    def size(self):\n",
        "        return len(self.queue)"
      ],
      "execution_count": 13,
      "outputs": []
    },
    {
      "cell_type": "code",
      "metadata": {
        "colab": {
          "base_uri": "https://localhost:8080/"
        },
        "id": "M_6Em0Dnc5Iw",
        "outputId": "ec33514a-b60b-4721-f3f6-5d4d34fb9707"
      },
      "source": [
        " \n",
        "# Initialize Queue\n",
        "q = Queue()\n",
        "q.enqueue(1)\n",
        "q.enqueue(2)\n",
        "q.enqueue(3)\n",
        "q.enqueue(4)\n",
        "q.enqueue(5)\n",
        "q.enqueue(9) \n",
        "q.display()\n",
        " \n",
        "q.dequeue()\n",
        " \n",
        "print(\"After removing an element\")\n",
        "q.display()"
      ],
      "execution_count": 15,
      "outputs": [
        {
          "output_type": "stream",
          "text": [
            "Queue is full\n",
            "[1, 2, 3, 4, 5]\n",
            "After removing an element\n",
            "[2, 3, 4, 5]\n"
          ],
          "name": "stdout"
        }
      ]
    },
    {
      "cell_type": "markdown",
      "metadata": {
        "id": "xYJLdAnGdoAW"
      },
      "source": [
        " Complexity Analysis\n",
        "\n",
        "The complexity of enqueue and dequeue operations in a queue using an array is O(1)."
      ]
    },
    {
      "cell_type": "markdown",
      "metadata": {
        "id": "N10ilvZdcSuz"
      },
      "source": [
        " Types of Queues\n",
        "\n",
        "(1) Circular Queue\n",
        "(2) Priority Queue\n",
        "(3) Dequeue"
      ]
    }
  ]
}