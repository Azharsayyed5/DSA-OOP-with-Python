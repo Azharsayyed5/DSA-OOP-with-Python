{
  "nbformat": 4,
  "nbformat_minor": 0,
  "metadata": {
    "colab": {
      "name": "queue.ipynb",
      "provenance": [],
      "authorship_tag": "ABX9TyPSAMnZji/tzO8liC9b8ann",
      "include_colab_link": true
    },
    "kernelspec": {
      "name": "python3",
      "display_name": "Python 3"
    }
  },
  "cells": [
    {
      "cell_type": "markdown",
      "metadata": {
        "id": "view-in-github",
        "colab_type": "text"
      },
      "source": [
        "<a href=\"https://colab.research.google.com/github/Azharsayyed5/DSA-OOP-with-Python/blob/main/queue.ipynb\" target=\"_parent\"><img src=\"https://colab.research.google.com/assets/colab-badge.svg\" alt=\"Open In Colab\"/></a>"
      ]
    },
    {
      "cell_type": "markdown",
      "metadata": {
        "id": "hVW_pnq8cP9D"
      },
      "source": [
        " Queue follows the First In First Out (FIFO) rule - \n",
        " \n",
        "the item that goes in first is the item that comes out first.\n",
        " \n",
        "In programming terms, putting items in the queue is called enqueue, and removing items from the queue is called dequeue.\n",
        " \n",
        "Basic Operations of Queue\n",
        " \n",
        "Enqueue: Add an element to the end of the queue\n",
        " \n",
        "Dequeue: Remove an element from the front of the queue\n",
        " \n",
        "IsEmpty: Check if the queue is empty\n",
        " \n",
        "IsFull: Check if the queue is full\n",
        " \n",
        "Peek: Get the value of the front of the queue without removing it"
      ]
    },
    {
      "cell_type": "markdown",
      "metadata": {
        "id": "VfrcxbHefAHx"
      },
      "source": [
        "# Simple Queue"
      ]
    },
    {
      "cell_type": "code",
      "metadata": {
        "id": "tTV-WloccsSC"
      },
      "source": [
        "# Queue implementation in Python\n",
        " \n",
        "class Queue:\n",
        " \n",
        "    def __init__(self):\n",
        "        self.queue = []\n",
        " \n",
        "    # Add an element\n",
        "    def enqueue(self, item):\n",
        "        if self.size() == 5:\n",
        "            print(\"Queue is full\")\n",
        "            return None\n",
        "        self.queue.append(item)\n",
        " \n",
        "    # Remove an element\n",
        "    def dequeue(self):\n",
        "        if len(self.queue) < 1:\n",
        "            return None\n",
        "        return self.queue.pop(0)\n",
        " \n",
        "    # Display  the queue\n",
        "    def display(self):\n",
        "        print(self.queue)\n",
        " \n",
        "    def size(self):\n",
        "        return len(self.queue)"
      ],
      "execution_count": null,
      "outputs": []
    },
    {
      "cell_type": "code",
      "metadata": {
        "colab": {
          "base_uri": "https://localhost:8080/"
        },
        "id": "M_6Em0Dnc5Iw",
        "outputId": "ec33514a-b60b-4721-f3f6-5d4d34fb9707"
      },
      "source": [
        " \n",
        "# Initialize Queue\n",
        "q = Queue()\n",
        "q.enqueue(1)\n",
        "q.enqueue(2)\n",
        "q.enqueue(3)\n",
        "q.enqueue(4)\n",
        "q.enqueue(5)\n",
        "q.enqueue(9) \n",
        "q.display()\n",
        " \n",
        "q.dequeue()\n",
        " \n",
        "print(\"After removing an element\")\n",
        "q.display()"
      ],
      "execution_count": null,
      "outputs": [
        {
          "output_type": "stream",
          "text": [
            "Queue is full\n",
            "[1, 2, 3, 4, 5]\n",
            "After removing an element\n",
            "[2, 3, 4, 5]\n"
          ],
          "name": "stdout"
        }
      ]
    },
    {
      "cell_type": "markdown",
      "metadata": {
        "id": "xYJLdAnGdoAW"
      },
      "source": [
        " Complexity Analysis\n",
        "\n",
        "The complexity of enqueue and dequeue operations in a queue using an array is O(1)."
      ]
    },
    {
      "cell_type": "markdown",
      "metadata": {
        "id": "N10ilvZdcSuz"
      },
      "source": [
        " Types of Queues\n",
        "\n",
        "(1) Circular Queue\n",
        "(2) Priority Queue\n",
        "(3) Dequeue"
      ]
    },
    {
      "cell_type": "markdown",
      "metadata": {
        "id": "Co5THKF52cCK"
      },
      "source": [
        "#Circular Queue\n",
        " \n",
        "In a circular queue, the last element points to the first element making a circular link.Circular Queue Representation\n",
        " \n",
        "The main advantage of a circular queue over a simple queue is better memory utilization. If the last position is full and the first position is empty, we can insert an element in the first position. This action is not possible in a simple queue.\n",
        " \n",
        "Circular Queue works by the process of circular increment i.e. when we try to increment the pointer and we reach the end of the queue, we start from the beginning of the queue."
      ]
    },
    {
      "cell_type": "code",
      "metadata": {
        "id": "TSOE6tyv3biU"
      },
      "source": [
        " \n",
        "# Circular Queue implementation in Python\n",
        " \n",
        " \n",
        "class MyCircularQueue():\n",
        " \n",
        "    def __init__(self, k):\n",
        "        self.k = k\n",
        "        self.queue = [None] * k\n",
        "        self.head = self.tail = -1\n",
        " \n",
        "    # Insert an element into the circular queue\n",
        "    def enqueue(self, data):\n",
        " \n",
        "        if ((self.tail + 1) % self.k == self.head):\n",
        "            print(\"The circular queue is full\\n\")\n",
        " \n",
        "        elif (self.head == -1):\n",
        "            self.head = 0\n",
        "            self.tail = 0\n",
        "            self.queue[self.tail] = data\n",
        "        else:\n",
        "            self.tail = (self.tail + 1) % self.k\n",
        "            self.queue[self.tail] = data\n",
        " \n",
        "    # Delete an element from the circular queue\n",
        "    def dequeue(self):\n",
        "        if (self.head == -1):\n",
        "            print(\"The circular queue is empty\\n\")\n",
        " \n",
        "        elif (self.head == self.tail):\n",
        "            temp = self.queue[self.head]\n",
        "            self.head = -1\n",
        "            self.tail = -1\n",
        "            return temp\n",
        "        else:\n",
        "            temp = self.queue[self.head]\n",
        "            self.head = (self.head + 1) % self.k\n",
        "            return temp\n",
        " \n",
        "    def printCQueue(self):\n",
        "        if(self.head == -1):\n",
        "            print(\"No element in the circular queue\")\n",
        " \n",
        "        elif (self.tail >= self.head):\n",
        "            for i in range(self.head, self.tail + 1):\n",
        "                print(self.queue[i], end=\" \")\n",
        "            print()\n",
        "        else:\n",
        "            for i in range(self.head, self.k):\n",
        "                print(self.queue[i], end=\" \")\n",
        "            for i in range(0, self.tail + 1):\n",
        "                print(self.queue[i], end=\" \")\n",
        "            print()"
      ],
      "execution_count": 2,
      "outputs": []
    },
    {
      "cell_type": "code",
      "metadata": {
        "id": "PpKE5Ecr3dIV"
      },
      "source": [
        " # Your MyCircularQueue object will be instantiated and called as such:\n",
        "obj = MyCircularQueue(5)\n",
        "obj.enqueue(1)\n",
        "obj.enqueue(2)\n",
        "obj.enqueue(3)\n",
        "obj.enqueue(4)\n",
        "obj.enqueue(5)\n",
        "print(\"Initial queue\")\n",
        "obj.printCQueue()\n",
        " \n",
        "obj.dequeue()\n",
        "print(\"After removing an element from the queue\")\n",
        "obj.printCQueue()"
      ],
      "execution_count": null,
      "outputs": []
    },
    {
      "cell_type": "markdown",
      "metadata": {
        "id": "mK2hVQ-s4NQk"
      },
      "source": [
        " Circular Queue Complexity Analysis\n",
        "\n",
        "The complexity of the enqueue and dequeue operations of a circular queue is O(1) for (array implementations)."
      ]
    },
    {
      "cell_type": "markdown",
      "metadata": {
        "id": "S6ZoaJ2v2qIh"
      },
      "source": [
        "#Priority Queue\n",
        " \n",
        "A priority queue is a special type of queue in  which each element is associated with a priority and is served according to its priority. If elements with the same priority occur, they are served according to their order in the queue.\n",
        " \n",
        "Insertion occurs based on the arrival of the values and removal occurs based on priority."
      ]
    },
    {
      "cell_type": "code",
      "metadata": {
        "id": "ZV0DadP58ltl"
      },
      "source": [
        " \n",
        "# Priority Queue implementation in Python\n",
        " \n",
        " \n",
        "# Function to heapify the tree\n",
        "def heapify(arr, n, i):\n",
        "    # Find the largest among root, left child and right child\n",
        "    largest = i\n",
        "    l = 2 * i + 1\n",
        "    r = 2 * i + 2\n",
        " \n",
        "    if l < n and arr[i] < arr[l]:\n",
        "        largest = l\n",
        " \n",
        "    if r < n and arr[largest] < arr[r]:\n",
        "        largest = r\n",
        " \n",
        "    # Swap and continue heapifying if root is not largest\n",
        "    if largest != i:\n",
        "        arr[i], arr[largest] = arr[largest], arr[i]\n",
        "        heapify(arr, n, largest)\n",
        " \n",
        " \n",
        "# Function to insert an element into the tree\n",
        "def insert(array, newNum):\n",
        "    size = len(array)\n",
        "    if size == 0:\n",
        "        array.append(newNum)\n",
        "    else:\n",
        "        array.append(newNum)\n",
        "        for i in range((size // 2) - 1, -1, -1):\n",
        "            heapify(array, size, i)\n",
        " \n",
        " \n",
        "# Function to delete an element from the tree\n",
        "def deleteNode(array, num):\n",
        "    size = len(array)\n",
        "    i = 0\n",
        "    for i in range(0, size):\n",
        "        if num == array[i]:\n",
        "            break\n",
        " \n",
        "    array[i], array[size - 1] = array[size - 1], array[i]\n",
        " \n",
        "    array.remove(size - 1)\n",
        " \n",
        "    for i in range((len(array) // 2) - 1, -1, -1):\n",
        "        heapify(array, len(array), i)"
      ],
      "execution_count": 9,
      "outputs": []
    },
    {
      "cell_type": "code",
      "metadata": {
        "colab": {
          "base_uri": "https://localhost:8080/"
        },
        "id": "QD3Ne8xV8tFG",
        "outputId": "64ab4db5-0ce2-47ff-9349-aa5c73d0a4e1"
      },
      "source": [
        " arr = []\n",
        " \n",
        "insert(arr, 1)\n",
        "insert(arr, 4)\n",
        "insert(arr, 9)\n",
        "insert(arr, 5)\n",
        "insert(arr, 2)\n",
        " \n",
        "print (\"Max-Heap array: \" + str(arr))\n",
        " \n",
        "deleteNode(arr, 4)\n",
        "print(\"After deleting an element: \" + str(arr))"
      ],
      "execution_count": 12,
      "outputs": [
        {
          "output_type": "stream",
          "text": [
            "Max-Heap array: [9, 5, 4, 1, 2]\n",
            "After deleting an element: [9, 5, 2, 1]\n"
          ],
          "name": "stdout"
        }
      ]
    },
    {
      "cell_type": "markdown",
      "metadata": {
        "id": "39mRSJl329ZW"
      },
      "source": [
        "#Dequeue\n",
        " \n",
        "In a double ended queue, insertion and removal of elements can be performed from either from the front or rear. Thus, it does not follow the FIFO (First In First Out) rule.\n",
        " \n",
        "#Types of Deque\n",
        " \n",
        "• Input Restricted Deque\n",
        " \n",
        "In this deque, input is restricted at a single end but allows deletion at both the ends.\n",
        " \n",
        "• Output Restricted Deque\n",
        " \n",
        "In this deque, output is restricted at a single end but allows insertion at both the ends."
      ]
    },
    {
      "cell_type": "code",
      "metadata": {
        "id": "_MbKRNaq5Zqd"
      },
      "source": [
        " # Deque implementaion in python\n",
        " \n",
        "class Deque:\n",
        "    def __init__(self):\n",
        "        self.items = []\n",
        " \n",
        "    def isEmpty(self):\n",
        "        return self.items == []\n",
        " \n",
        "    def addRear(self, item):\n",
        "        self.items.append(item)\n",
        " \n",
        "    def addFront(self, item):\n",
        "        self.items.insert(0, item)\n",
        " \n",
        "    def removeFront(self):\n",
        "        return self.items.pop()\n",
        " \n",
        "    def removeRear(self):\n",
        "        return self.items.pop(0)\n",
        " \n",
        "    def size(self):\n",
        "        return len(self.items)"
      ],
      "execution_count": 7,
      "outputs": []
    },
    {
      "cell_type": "code",
      "metadata": {
        "colab": {
          "base_uri": "https://localhost:8080/"
        },
        "id": "utdtt1z65izM",
        "outputId": "87bb03aa-0b78-4763-9359-102ad0698c87"
      },
      "source": [
        " \n",
        "d = Deque()\n",
        "print(d.isEmpty())\n",
        "d.addRear(8)\n",
        "d.addRear(5)\n",
        "d.addFront(7)\n",
        "d.addFront(10)\n",
        "print(d.size())\n",
        "print(d.isEmpty())\n",
        "d.addRear(11)\n",
        "print(d.removeRear())\n",
        "print(d.removeFront())\n",
        "d.addFront(55)\n",
        "d.addRear(45)\n",
        "print(d.items)"
      ],
      "execution_count": 8,
      "outputs": [
        {
          "output_type": "stream",
          "text": [
            "True\n",
            "4\n",
            "False\n",
            "10\n",
            "11\n",
            "[55, 7, 8, 5, 45]\n"
          ],
          "name": "stdout"
        }
      ]
    },
    {
      "cell_type": "markdown",
      "metadata": {
        "id": "hJKomZme5SNs"
      },
      "source": [
        "• Time Complexity\n",
        " \n",
        "The time complexity of all the above operations is constant i.e. O(1)."
      ]
    }
  ]
}