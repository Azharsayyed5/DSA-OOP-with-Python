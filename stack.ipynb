{
  "nbformat": 4,
  "nbformat_minor": 0,
  "metadata": {
    "colab": {
      "name": "stack.ipynb",
      "provenance": [],
      "authorship_tag": "ABX9TyPxKgGzsfTzozRr3h4NFKp2",
      "include_colab_link": true
    },
    "kernelspec": {
      "name": "python3",
      "display_name": "Python 3"
    }
  },
  "cells": [
    {
      "cell_type": "markdown",
      "metadata": {
        "id": "view-in-github",
        "colab_type": "text"
      },
      "source": [
        "<a href=\"https://colab.research.google.com/github/Azharsayyed5/DSA-OOP-with-Python/blob/main/stack.ipynb\" target=\"_parent\"><img src=\"https://colab.research.google.com/assets/colab-badge.svg\" alt=\"Open In Colab\"/></a>"
      ]
    },
    {
      "cell_type": "markdown",
      "metadata": {
        "id": "xB2eBHmWYl8N"
      },
      "source": [
        " STACKS\n",
        " \n",
        "A stack is a useful data structure in programming. It is just like a pile of plates kept on top of each other.\n",
        "Stack representation similar to a pile of plate Think about the things you can do with such a pile of plates\n",
        "Put a new plate on top, Remove the top plate\n",
        "If you want the plate at the bottom, you must first remove all the plates on top. Such an arrangement is called Last In First Out - the last item that is the first item to go out."
      ]
    },
    {
      "cell_type": "markdown",
      "metadata": {
        "id": "otwdY5ytZcvS"
      },
      "source": [
        "LIFO Principle of Stack - \n",
        " \n",
        "•In programming terms, putting an item on top of the stack is called push and removing an item is called pop.\n",
        " \n",
        "Basic Operations of Stack -\n",
        " \n",
        "•Push: Add an element to the top of a \n",
        "\n",
        "•stackPop:Remove an element from the top of a stack\n",
        "\n",
        "•IsEmpty: Check if the stack is empty\n",
        "\n",
        "•IsFull: Check if the stack is full\n",
        "\n",
        "•Peek: Get the value of the top element without removing it"
      ]
    },
    {
      "cell_type": "code",
      "metadata": {
        "id": "hoceghk_Ypqn"
      },
      "source": [
        " # Creating a stack\n",
        "def create_stack():\n",
        "    stack = []\n",
        "    return stack"
      ],
      "execution_count": 4,
      "outputs": []
    },
    {
      "cell_type": "code",
      "metadata": {
        "id": "8nk9L9p0ac7x"
      },
      "source": [
        " # Creating an empty stack\n",
        "def check_empty(stack):\n",
        "    return len(stack) == 0"
      ],
      "execution_count": 5,
      "outputs": []
    },
    {
      "cell_type": "code",
      "metadata": {
        "id": "W79dYnGTanhR"
      },
      "source": [
        " # Adding items into the stack\n",
        "def push(stack, item):\n",
        "    stack.append(item)\n",
        "    print(\"pushed item: \" + item)"
      ],
      "execution_count": 6,
      "outputs": []
    },
    {
      "cell_type": "code",
      "metadata": {
        "id": "Qh9E9ObmasN1"
      },
      "source": [
        " # Removing an element from the stack\n",
        "def pop(stack):\n",
        "    if (check_empty(stack)):\n",
        "        return \"stack is empty\"\n",
        " \n",
        "    return stack.pop()"
      ],
      "execution_count": 7,
      "outputs": []
    },
    {
      "cell_type": "code",
      "metadata": {
        "colab": {
          "base_uri": "https://localhost:8080/"
        },
        "id": "8kHFw70fayzr",
        "outputId": "8749f15c-f573-40e3-ae52-bd06d1285d1f"
      },
      "source": [
        "stack = create_stack()\n",
        "push(stack, str(1))\n",
        "push(stack, str(2))\n",
        "push(stack, str(3))\n",
        "push(stack, str(4))\n",
        "print(\"popped item: \" + pop(stack))\n",
        "print(\"stack after popping an element: \" + str(stack))"
      ],
      "execution_count": 8,
      "outputs": [
        {
          "output_type": "stream",
          "text": [
            "pushed item: 1\n",
            "pushed item: 2\n",
            "pushed item: 3\n",
            "pushed item: 4\n",
            "popped item: 4\n",
            "stack after popping an element: ['1', '2', '3']\n"
          ],
          "name": "stdout"
        }
      ]
    },
    {
      "cell_type": "markdown",
      "metadata": {
        "id": "waUJbmKtbDSZ"
      },
      "source": [
        "Stack Time Complexity For the array -\n",
        "\n",
        "based implementation of a stack, the push and pop operations take constant time, i.e. O(1)."
      ]
    }
  ]
}